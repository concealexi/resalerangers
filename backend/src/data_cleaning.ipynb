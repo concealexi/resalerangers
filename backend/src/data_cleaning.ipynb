{
 "cells": [
  {
   "cell_type": "markdown",
   "metadata": {},
   "source": [
    "### Data Cleaning"
   ]
  },
  {
   "cell_type": "code",
   "execution_count": 1,
   "metadata": {},
   "outputs": [],
   "source": [
    "#!pip install pygeohash\n",
    "import pandas as pd\n",
    "import numpy as np\n",
    "import re\n",
    "import pygeohash"
   ]
  },
  {
   "cell_type": "code",
   "execution_count": 2,
   "metadata": {},
   "outputs": [],
   "source": [
    "# read in the csv files, merge the dfs\n",
    "df1 = pd.read_csv(\"../data/Resale Flat Prices (Based on Registration Date), From Jan 2015 to Dec 2016.csv\")\n",
    "df2 = pd.read_csv(\"../data/Resale flat prices based on registration date from Jan-2017 onwards.csv\")\n",
    "df1['date'] = pd.to_datetime(df1['month'])\n",
    "df2['date'] = pd.to_datetime(df2['month'])\n",
    "\n",
    "def parse_lease(lease_str):\n",
    "    pattern = r\"(\\d+)\\s*years(?:\\s+(\\d+)\\s*months?)?\"\n",
    "    match = re.search(pattern, lease_str.lower())\n",
    "    if match:\n",
    "        years = int(match.group(1))\n",
    "        return years\n",
    "    return None\n",
    "\n",
    "df2['remaining_lease'] = df2['remaining_lease'].apply(parse_lease)\n",
    "df = pd.concat([df1,df2])\n",
    "\n",
    "# converting using inflation rate to get adjusted prices\n",
    "inflation_dict = {\n",
    "    2012: 4.6,\n",
    "    2013: 2.4,\n",
    "    2014: 1.0,\n",
    "    2015: -0.5,\n",
    "    2016: -0.5,\n",
    "    2017: 0.6,\n",
    "    2018: 0.4,\n",
    "    2019: 0.6,\n",
    "    2020: -0.2,\n",
    "    2021: 2.3,\n",
    "    2022: 6.1,\n",
    "    2023: 4.0,   \n",
    "    2024: 2.5,   \n",
    "    2025: 2.0,   # forecast\n",
    "}\n",
    "\n",
    "def compound_to_2025(original_price, sale_year, inflation_data):\n",
    "    factor = 1.0\n",
    "    for y in range(sale_year + 1, 2026):\n",
    "        if y in inflation_data:\n",
    "            factor *= (1 + inflation_data[y] / 100.0)\n",
    "        else:\n",
    "            factor *= 1.0\n",
    "    return original_price * factor\n",
    "\n",
    "df['adjusted_resale_price'] = df.apply(lambda row: compound_to_2025(row['resale_price'], row['date'].year, inflation_dict), axis=1)\n",
    "df['adj_resale_price_per_sqm'] = df['adjusted_resale_price']/df['floor_area_sqm']\n",
    "df = df.drop(['resale_price'], axis=1)"
   ]
  },
  {
   "cell_type": "code",
   "execution_count": 3,
   "metadata": {},
   "outputs": [],
   "source": [
    "df[\"address\"] = df[\"block\"] + \" \" + df[\"street_name\"]\n",
    "unique_addresses = df[\"address\"].unique()\n",
    "unique_hdb_df = pd.DataFrame(unique_addresses, columns=[\"address\"])"
   ]
  },
  {
   "cell_type": "code",
   "execution_count": null,
   "metadata": {},
   "outputs": [],
   "source": [
    "# geocode lat long postal code for unique hdb blocks found in transactions\n",
    "# call geocode_update to geocode for addresses, use OneMapa api token\n",
    "from geocode_update import geocode_address\n",
    "results = []\n",
    "for add in unique_hdb_df['address']:\n",
    "    codes = geocode_address(add)\n",
    "    results.append(codes)\n",
    "\n",
    "hdb_geocoded = pd.DataFrame(results)\n",
    "\n",
    "#hdb_geocoded.to_csv(\"hdb_codes.csv\", index=False)"
   ]
  },
  {
   "cell_type": "code",
   "execution_count": 4,
   "metadata": {},
   "outputs": [
    {
     "data": {
      "text/plain": [
       "month                       0\n",
       "town                        0\n",
       "flat_type                   0\n",
       "block                       0\n",
       "street_name                 0\n",
       "storey_range                0\n",
       "floor_area_sqm              0\n",
       "flat_model                  0\n",
       "lease_commence_date         0\n",
       "remaining_lease             0\n",
       "date                        0\n",
       "adjusted_resale_price       0\n",
       "adj_resale_price_per_sqm    0\n",
       "address                     0\n",
       "latitude                    0\n",
       "longitude                   0\n",
       "postal_code                 0\n",
       "min_dist_sch                0\n",
       "min_dist_cbd                0\n",
       "geohash                     0\n",
       "min_dist_mrt                0\n",
       "dtype: int64"
      ]
     },
     "execution_count": 4,
     "metadata": {},
     "output_type": "execute_result"
    }
   ],
   "source": [
    "# GETTING DISTANCES\n",
    "import geohashing_and_distances as gd\n",
    "hdb_geocoded = pd.read_csv(\"../data/hdb_codes.csv\")\n",
    "\n",
    "hdb_geocoded = gd.dist_good_school(hdb_geocoded)\n",
    "hdb_geocoded = gd.dist_to_cbd(hdb_geocoded)\n",
    "\n",
    "hdb_geocoded['geohash'] =\\\n",
    "(hdb_geocoded.apply(lambda row: pygeohash.encode(row['latitude'],row['longitude']),axis=1))\n",
    "df = pd.merge(df, hdb_geocoded, on = 'address', how='left')\n",
    "\n",
    "# function call for getting mrt \n",
    "final_df = gd.dist_nearest_mrt(df)\n",
    "final_df.isna().sum()   # check for NA"
   ]
  },
  {
   "cell_type": "code",
   "execution_count": null,
   "metadata": {},
   "outputs": [],
   "source": [
    "# handling the categorical variables for storey range and for the different flat types found \n",
    "def calculate_storey_median(storey_range):\n",
    "    storey_min, storey_max = map(int, storey_range.split(' TO '))\n",
    "    return (storey_min + storey_max) / 2\n",
    "\n",
    "final_df['storey_median'] = final_df['storey_range'].apply(calculate_storey_median)\n",
    "final_df = pd.get_dummies(final_df, columns=['flat_type'])\n",
    "final_df = final_df.drop(['date'], axis=1)"
   ]
  },
  {
   "cell_type": "code",
   "execution_count": 14,
   "metadata": {},
   "outputs": [],
   "source": [
    "# exporting final_df, this is the transaction datasest \n",
    "final_df.to_csv(\"hdb_final_dataset.csv\", index=False)"
   ]
  }
 ],
 "metadata": {
  "kernelspec": {
   "display_name": "Python 3",
   "language": "python",
   "name": "python3"
  },
  "language_info": {
   "codemirror_mode": {
    "name": "ipython",
    "version": 3
   },
   "file_extension": ".py",
   "mimetype": "text/x-python",
   "name": "python",
   "nbconvert_exporter": "python",
   "pygments_lexer": "ipython3",
   "version": "3.10.6"
  }
 },
 "nbformat": 4,
 "nbformat_minor": 2
}
